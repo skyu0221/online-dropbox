{
 "cells": [
  {
   "cell_type": "markdown",
   "metadata": {},
   "source": [
    "### CMPUT 660 Winter 2020 - Hamming Code - Tianyu Zhang\n",
    "Code available on GitHub: https://github.com/skyu0221/online-dropbox/blob/master/tianyu-programming.ipynb"
   ]
  },
  {
   "cell_type": "code",
   "execution_count": 1,
   "metadata": {},
   "outputs": [],
   "source": [
    "def decode(data, even_parity=True):\n",
    "    mapping = {'1': '0', '0': '1'}\n",
    "    parity_type = \"even parity\"\n",
    "\n",
    "    print(data, end='')\n",
    "    data = list(data)[::-1]\n",
    "\n",
    "    if not even_parity:\n",
    "        i = 0\n",
    "        while i < len(data):\n",
    "            data[i] = mapping[data[i]]\n",
    "            i = 2 * i + 1\n",
    "        parity_type = \"odd parity\"\n",
    "\n",
    "    error_bit = 0\n",
    "    for i, value in enumerate(data):\n",
    "        if int(value):\n",
    "            error_bit ^= i + 1\n",
    "\n",
    "    if error_bit != 0:\n",
    "        data[error_bit - 1] = mapping[data[error_bit - 1]]\n",
    "        print(\" found an error in position\", error_bit,\n",
    "              \"with\", parity_type + \". The corrected \"\n",
    "              \"data stream is\", ''.join(data[::-1]), end='')\n",
    "    else:\n",
    "        print(\" found no error\", end='')\n",
    "\n",
    "    original_data = list()\n",
    "    for i, value in enumerate(data):\n",
    "        if i & (i + 1):\n",
    "            original_data.append(value)\n",
    "\n",
    "    print(\" and the data is\", ''.join(original_data[::-1]))"
   ]
  },
  {
   "cell_type": "code",
   "execution_count": 2,
   "metadata": {},
   "outputs": [],
   "source": [
    "def encode(data, even_parity=True):\n",
    "    mapping = {'1': '0', '0': '1'}\n",
    "    parity_type = \"even parity\"\n",
    "\n",
    "    print(data, end='')\n",
    "    data = list(data)[::-1]\n",
    "\n",
    "    i = 0\n",
    "    while i < len(data):\n",
    "        data.insert(i, '0')\n",
    "        i = 2 * i + 1\n",
    "\n",
    "    parities = 0\n",
    "    for i, value in enumerate(data):\n",
    "        if int(value):\n",
    "            parities ^= i + 1\n",
    "\n",
    "    parities = list(str(bin(parities))[2:])[::-1]\n",
    "    for i, value in enumerate(parities):\n",
    "        data[2 ** i - 1] = value\n",
    "\n",
    "    if not even_parity:\n",
    "        i = 0\n",
    "        while i < len(data):\n",
    "            data[i] = mapping[data[i]]\n",
    "            i = 2 * i + 1\n",
    "        parity_type = \"odd parity\"\n",
    "\n",
    "    print(\" is encoded to\", ''.join(data[::-1]), \"with\", parity_type)"
   ]
  },
  {
   "cell_type": "code",
   "execution_count": 3,
   "metadata": {},
   "outputs": [
    {
     "name": "stdout",
     "output_type": "stream",
     "text": [
      "1110110 is encoded to 11110110011 with even parity\n"
     ]
    }
   ],
   "source": [
    "encode(\"1110110\")"
   ]
  },
  {
   "cell_type": "code",
   "execution_count": 4,
   "metadata": {},
   "outputs": [
    {
     "name": "stdout",
     "output_type": "stream",
     "text": [
      "1101 is encoded to 1100110 with even parity\n"
     ]
    }
   ],
   "source": [
    "encode(\"1101\")"
   ]
  },
  {
   "cell_type": "code",
   "execution_count": 5,
   "metadata": {},
   "outputs": [
    {
     "name": "stdout",
     "output_type": "stream",
     "text": [
      "101011010110100 found an error in position 11 with even parity. The corrected data stream is 101001010110100 and the data is 10100100111\n"
     ]
    }
   ],
   "source": [
    "decode(\"101011010110100\")"
   ]
  },
  {
   "cell_type": "code",
   "execution_count": 6,
   "metadata": {},
   "outputs": [
    {
     "name": "stdout",
     "output_type": "stream",
     "text": [
      "101011010110110 found an error in position 9 with even parity. The corrected data stream is 101011110110110 and the data is 10101110111\n"
     ]
    }
   ],
   "source": [
    "decode(\"101011010110110\")"
   ]
  }
 ],
 "metadata": {
  "kernelspec": {
   "display_name": "Python 3.6.4 64-bit",
   "language": "python",
   "name": "python36464bita83fe77e5d9b4f27b82cb1e4279e3502"
  },
  "language_info": {
   "codemirror_mode": {
    "name": "ipython",
    "version": 3
   },
   "file_extension": ".py",
   "mimetype": "text/x-python",
   "name": "python",
   "nbconvert_exporter": "python",
   "pygments_lexer": "ipython3",
   "version": "3.6.4"
  }
 },
 "nbformat": 4,
 "nbformat_minor": 2
}
