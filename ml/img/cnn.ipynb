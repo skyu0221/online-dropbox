{
 "cells": [
  {
   "cell_type": "markdown",
   "metadata": {},
   "source": [
    "# Play with different filters\n",
    "\n",
    "skimage 是一个专门用于图像处理的 module"
   ]
  },
  {
   "cell_type": "code",
   "execution_count": null,
   "metadata": {},
   "outputs": [],
   "source": [
    "!wget https://raw.githubusercontent.com/skyu0221/online-dropbox/master/ml/img/Img_060.jpg\n",
    "!wget https://raw.githubusercontent.com/skyu0221/online-dropbox/master/ml/img/damage_cameraman.png\n",
    "!wget https://raw.githubusercontent.com/skyu0221/online-dropbox/master/ml/img/damage_mask.png\n",
    "!wget https://raw.githubusercontent.com/skyu0221/online-dropbox/master/ml/img/ex2.jpg\n",
    "!wget https://raw.githubusercontent.com/skyu0221/online-dropbox/master/ml/img/moon.png\n",
    "!wget https://raw.githubusercontent.com/skyu0221/online-dropbox/master/ml/img/noisy.jpg"
   ]
  },
  {
   "cell_type": "code",
   "execution_count": null,
   "metadata": {},
   "outputs": [],
   "source": [
    "from skimage import io, img_as_ubyte, filters\n",
    "import matplotlib.pyplot as plt\n",
    "import numpy as np\n",
    "from scipy.signal import convolve2d\n",
    "plt.style.use('ggplot')"
   ]
  },
  {
   "cell_type": "code",
   "execution_count": null,
   "metadata": {},
   "outputs": [],
   "source": [
    "image = io.imread('moon.png', as_gray=True)"
   ]
  },
  {
   "cell_type": "code",
   "execution_count": null,
   "metadata": {},
   "outputs": [],
   "source": [
    "plt.figure(figsize=(8, 8))\n",
    "plt.imshow(image, cmap=plt.cm.gray)\n",
    "plt.title(\"Original Moon\")\n",
    "plt.show()"
   ]
  },
  {
   "cell_type": "markdown",
   "metadata": {},
   "source": [
    "Filter 1: Laplacian filter\n",
    "\n",
    "Filter 2: Useless filter\n",
    "\n",
    "Filter 3: Shift filter"
   ]
  },
  {
   "cell_type": "code",
   "execution_count": null,
   "metadata": {},
   "outputs": [],
   "source": [
    "filter1 = np.array([[0, 1, 0],\n",
    "                    [1, -4, 1],\n",
    "                    [0, 1, 0]])\n",
    "\n",
    "filter2 = np.array([[0, 0, 0],\n",
    "                    [0, 1, 0],\n",
    "                    [0, 0, 0]])\n",
    "\n",
    "filter3 = np.array([[0, 0, 0],\n",
    "                    [0, 0, 1],\n",
    "                    [0, 0, 0]])\n",
    "\n",
    "filter4_result = image.copy()\n",
    "pad_img = np.pad(image, 1, 'constant', constant_values=0)\n",
    "for i in range(filter4_result.shape[0]):\n",
    "    for j in range(filter4_result.shape[1]):\n",
    "        filter4_result[i, j] = pad_img[i:i+3, j:j+3].mean()"
   ]
  },
  {
   "cell_type": "markdown",
   "metadata": {},
   "source": [
    "## Apply different filter to the image"
   ]
  },
  {
   "cell_type": "code",
   "execution_count": null,
   "metadata": {},
   "outputs": [],
   "source": [
    "plt.figure(figsize=(20, 20))\n",
    "plt.subplot(221)\n",
    "filter1_result = convolve2d(image, filter1, boundary='symm', mode='same')\n",
    "plt.title(\"Laplacian Filter\")\n",
    "plt.imshow(filter1_result, cmap=plt.cm.gray)\n",
    "\n",
    "plt.subplot(222)\n",
    "filter2_result = convolve2d(image, filter2, boundary='symm', mode='same')\n",
    "plt.title(\"Useless Filter\")\n",
    "plt.imshow(filter2_result, cmap=plt.cm.gray)\n",
    "\n",
    "plt.subplot(223)\n",
    "filter3_result = convolve2d(image, filter3, boundary='symm', mode='same')\n",
    "plt.title(\"Shift Filter\")\n",
    "plt.imshow(filter3_result, cmap=plt.cm.gray)\n",
    "\n",
    "plt.subplot(224)\n",
    "plt.title(\"Average Filter\")\n",
    "plt.imshow(image + (image - filter4_result), cmap=plt.cm.gray)\n",
    "plt.show()"
   ]
  },
  {
   "cell_type": "code",
   "execution_count": null,
   "metadata": {},
   "outputs": [],
   "source": [
    "image = io.imread('noisy.jpg')"
   ]
  },
  {
   "cell_type": "markdown",
   "metadata": {},
   "source": [
    "## Apply built-in filters"
   ]
  },
  {
   "cell_type": "code",
   "execution_count": null,
   "metadata": {},
   "outputs": [],
   "source": [
    "plt.figure(figsize=(15, 10))\n",
    "\n",
    "plt.subplot(131)\n",
    "plt.imshow(image, cmap=plt.cm.gray)\n",
    "plt.title(\"Original Noisy\")\n",
    "\n",
    "plt.subplot(132)\n",
    "plt.imshow(filters.median(image), cmap=plt.cm.gray)\n",
    "plt.title(\"Median Filter\")\n",
    "\n",
    "plt.subplot(133)\n",
    "plt.imshow(filters.gaussian(image, sigma=4), cmap=plt.cm.gray)\n",
    "plt.title(\"Gaussian Filter\")\n",
    "\n",
    "plt.show()"
   ]
  },
  {
   "cell_type": "markdown",
   "metadata": {},
   "source": [
    "# Repair image"
   ]
  },
  {
   "cell_type": "code",
   "execution_count": null,
   "metadata": {},
   "outputs": [],
   "source": [
    "damaged_image = io.imread('damage_cameraman.png', as_gray=True)\n",
    "mask = io.imread('damage_mask.png', as_gray=True)"
   ]
  },
  {
   "cell_type": "code",
   "execution_count": null,
   "metadata": {},
   "outputs": [],
   "source": [
    "plt.imshow(damaged_image, cmap=plt.cm.gray)\n",
    "plt.show()"
   ]
  },
  {
   "cell_type": "code",
   "execution_count": null,
   "metadata": {},
   "outputs": [],
   "source": [
    "repair = damaged_image.copy()\n",
    "threshold = 1"
   ]
  },
  {
   "cell_type": "code",
   "execution_count": null,
   "metadata": {},
   "outputs": [],
   "source": [
    "i = 1\n",
    "while True:\n",
    "    prev = repair[mask == 0]\n",
    "    repair = filters.gaussian(repair)\n",
    "    repair[mask != 0] = damaged_image[mask != 0]\n",
    "    after = repair[mask == 0]\n",
    "    \n",
    "    delta = abs((prev - after).sum())\n",
    "    \n",
    "    plt.figure(figsize=(5, 5))\n",
    "    plt.imshow(repair, cmap=plt.cm.gray)\n",
    "    plt.title(f\"After {i} iteration, with change {delta:.2}\")\n",
    "    plt.show()\n",
    "    i += 1\n",
    "    if delta <= threshold:\n",
    "        break"
   ]
  },
  {
   "cell_type": "markdown",
   "metadata": {},
   "source": [
    "## Edge detection"
   ]
  },
  {
   "cell_type": "code",
   "execution_count": null,
   "metadata": {},
   "outputs": [],
   "source": [
    "image = io.imread(\"ex2.jpg\", as_gray=True)"
   ]
  },
  {
   "cell_type": "code",
   "execution_count": null,
   "metadata": {},
   "outputs": [],
   "source": [
    "plt.figure(figsize=(8, 8))\n",
    "plt.imshow(image, cmap=plt.cm.gray)\n",
    "plt.show()"
   ]
  },
  {
   "cell_type": "code",
   "execution_count": null,
   "metadata": {},
   "outputs": [],
   "source": [
    "filter_v = np.array([[-1, 0, 1],\n",
    "                     [-2, 0, 2],\n",
    "                     [-1, 0, 1]])\n",
    "\n",
    "filter_h = np.transpose(filter_v)"
   ]
  },
  {
   "cell_type": "code",
   "execution_count": null,
   "metadata": {},
   "outputs": [],
   "source": [
    "plt.figure(figsize=(20, 20))\n",
    "plt.subplot(211)\n",
    "filter1_result = convolve2d(image, filter_v, boundary='symm', mode='same')\n",
    "plt.title(\"Gradient X\")\n",
    "plt.imshow(filter1_result, cmap=plt.cm.gray)\n",
    "\n",
    "plt.subplot(212)\n",
    "filter2_result = convolve2d(image, filter_h, boundary='symm', mode='same')\n",
    "plt.title(\"Gradient Y\")\n",
    "plt.imshow(filter2_result, cmap=plt.cm.gray)\n",
    "plt.show()"
   ]
  },
  {
   "cell_type": "code",
   "execution_count": null,
   "metadata": {},
   "outputs": [],
   "source": [
    "edges = np.sqrt(np.square(filter1_result) + np.square(filter2_result))\n",
    "\n",
    "plt.figure(figsize=(20, 10))\n",
    "plt.title(\"Edges\")\n",
    "plt.imshow(edges, cmap=plt.cm.gray)\n",
    "plt.show()"
   ]
  },
  {
   "cell_type": "markdown",
   "metadata": {},
   "source": [
    "## Corner Detection"
   ]
  },
  {
   "cell_type": "code",
   "execution_count": null,
   "metadata": {},
   "outputs": [],
   "source": [
    "image = io.imread('Img_060.jpg', as_gray=True)"
   ]
  },
  {
   "cell_type": "code",
   "execution_count": null,
   "metadata": {},
   "outputs": [],
   "source": [
    "plt.figure(figsize=(8, 8))\n",
    "plt.imshow(image, cmap=\"gray\")\n",
    "plt.show()"
   ]
  },
  {
   "cell_type": "code",
   "execution_count": null,
   "metadata": {},
   "outputs": [],
   "source": [
    "x, y = np.gradient(image)\n",
    "\n",
    "plt.figure(figsize=(20, 20))\n",
    "plt.subplot(121)\n",
    "plt.imshow(y, cmap=\"gray\")\n",
    "plt.axis(\"off\")\n",
    "plt.title(\"Y derivation\")\n",
    "plt.subplot(122)\n",
    "plt.imshow(x, cmap=\"gray\")\n",
    "plt.axis(\"off\")\n",
    "plt.title(\"X derivation\")\n",
    "plt.show()"
   ]
  },
  {
   "cell_type": "code",
   "execution_count": null,
   "metadata": {},
   "outputs": [],
   "source": [
    "ixx = np.multiply(x, x)\n",
    "ixy = np.multiply(x, y)\n",
    "iyy = np.multiply(y, y)\n",
    "\n",
    "plt.figure(figsize=(20, 20))\n",
    "plt.subplot(131)\n",
    "plt.imshow(ixx, cmap=\"gray\")\n",
    "plt.axis(\"off\")\n",
    "plt.title(\"Ixx\")\n",
    "plt.subplot(132)\n",
    "plt.imshow(ixy, cmap=\"gray\")\n",
    "plt.axis(\"off\")\n",
    "plt.title(\"Ixy\")\n",
    "plt.subplot(133)\n",
    "plt.imshow(iyy, cmap=\"gray\")\n",
    "plt.axis(\"off\")\n",
    "plt.title(\"Iyy\")\n",
    "plt.show()"
   ]
  },
  {
   "cell_type": "code",
   "execution_count": null,
   "metadata": {},
   "outputs": [],
   "source": [
    "sxx = filters.gaussian(ixx)\n",
    "syy = filters.gaussian(iyy)\n",
    "sxy = filters.gaussian(ixy)\n",
    "\n",
    "plt.figure(figsize=(20, 20))\n",
    "plt.subplot(131)\n",
    "plt.imshow(sxx, cmap=\"gray\")\n",
    "plt.axis(\"off\")\n",
    "plt.title(\"Sxx\")\n",
    "plt.subplot(132)\n",
    "plt.imshow(sxy, cmap=\"gray\")\n",
    "plt.axis(\"off\")\n",
    "plt.title(\"Sxy\")\n",
    "plt.subplot(133)\n",
    "plt.imshow(syy, cmap=\"gray\")\n",
    "plt.axis(\"off\")\n",
    "plt.title(\"Syy\")\n",
    "plt.show()"
   ]
  },
  {
   "cell_type": "code",
   "execution_count": null,
   "metadata": {},
   "outputs": [],
   "source": [
    "from skimage.feature import corner_peaks\n",
    "\n",
    "k = 0.05\n",
    "\n",
    "# determinant\n",
    "det = np.multiply(sxx, syy) - np.multiply(sxy, sxy)\n",
    "# trace\n",
    "trace = sxx + syy\n",
    "\n",
    "#harris_response\n",
    "harris = det - k * (trace ** 2)\n",
    "\n",
    "dots = corner_peaks(harris)"
   ]
  },
  {
   "cell_type": "code",
   "execution_count": null,
   "metadata": {},
   "outputs": [],
   "source": [
    "plt.figure(figsize=(8, 8))\n",
    "plt.imshow(image, cmap=\"gray\")\n",
    "plt.scatter(dots[:, 1], dots[:, 0], marker='*', s=300)\n",
    "plt.axis(\"off\")\n",
    "plt.show()"
   ]
  },
  {
   "cell_type": "code",
   "execution_count": null,
   "metadata": {},
   "outputs": [],
   "source": []
  }
 ],
 "metadata": {
  "kernelspec": {
   "display_name": "Python 3.6.6 64-bit",
   "language": "python",
   "name": "python36664bit07b65f52c3294f9a96c880b9ee4186c3"
  },
  "language_info": {
   "codemirror_mode": {
    "name": "ipython",
    "version": 3
   },
   "file_extension": ".py",
   "mimetype": "text/x-python",
   "name": "python",
   "nbconvert_exporter": "python",
   "pygments_lexer": "ipython3",
   "version": "3.6.6"
  }
 },
 "nbformat": 4,
 "nbformat_minor": 4
}